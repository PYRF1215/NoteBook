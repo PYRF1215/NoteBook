{
 "cells": [
  {
   "cell_type": "code",
   "execution_count": 3,
   "metadata": {},
   "outputs": [
    {
     "name": "stdout",
     "output_type": "stream",
     "text": [
      "1\n",
      "2\n",
      "3\n",
      "  1  2  3\n",
      "4\n"
     ]
    }
   ],
   "source": [
    "#  601 偶數索引值加總\n",
    "T,count = 0,0\n",
    "X = [] \n",
    "\n",
    "for i in range(3):\n",
    "    x = int(input())\n",
    "    X.append(x)\n",
    "    if i % 2 == 0:\n",
    "        T += X[i]\n",
    "        \n",
    "for j in range(3):\n",
    "    print(f\"{X[j]:>3d}\",end=\"\")\n",
    "    count += 1\n",
    "    if count % 3==0:\n",
    "        print()\n",
    "    \n",
    "print(T)"
   ]
  },
  {
   "cell_type": "code",
   "execution_count": 1,
   "metadata": {},
   "outputs": [
    {
     "name": "stdout",
     "output_type": "stream",
     "text": [
      "1\n",
      "10\n",
      "A\n",
      "21\n"
     ]
    }
   ],
   "source": [
    "# 602 撲克牌總和\n",
    "T=0\n",
    "for i in range(3):\n",
    "    x=input()\n",
    "    if x == 'A': num = 10  #J、Q、K\n",
    "    else:num = int(x)\n",
    "    T+=num\n",
    "print(T)"
   ]
  },
  {
   "cell_type": "code",
   "execution_count": 2,
   "metadata": {},
   "outputs": [
    {
     "name": "stdout",
     "output_type": "stream",
     "text": [
      "2\n",
      "33\n",
      "1\n",
      "33 2 1\n"
     ]
    }
   ],
   "source": [
    "# 603 數字排序\n",
    "X = []\n",
    "for i in range(3):\n",
    "    x = int(input())\n",
    "    X.append(x)\n",
    "X.sort()\n",
    "print(X[-1],X[-2],X[-3])   "
   ]
  },
  {
   "cell_type": "code",
   "execution_count": null,
   "metadata": {},
   "outputs": [],
   "source": [
    "# 604 眾數\n",
    "X,L = [],[]\n",
    "\n",
    "for i in range(3):\n",
    "    x = int(input())\n",
    "    X.append(x)\n",
    "for i in range(3):L.append(X.count(X[i]))\n",
    "    \n",
    "print(X[L.index(max(L))])\n",
    "print(max(L))"
   ]
  },
  {
   "cell_type": "code",
   "execution_count": 3,
   "metadata": {},
   "outputs": [
    {
     "name": "stdout",
     "output_type": "stream",
     "text": [
      "22\n",
      "44\n",
      "11\n",
      "22\n",
      "22.00\n"
     ]
    }
   ],
   "source": [
    "# 605 成績計算\n",
    "X = []\n",
    "\n",
    "for i in range(3):\n",
    "    x = int(input())\n",
    "    X.append(x)\n",
    "    \n",
    "X.remove(max(X))\n",
    "X.remove(min(X))\n",
    "print(sum(X))\n",
    "print(f\"{sum(X)/len(X):.2f}\")"
   ]
  },
  {
   "cell_type": "code",
   "execution_count": 4,
   "metadata": {},
   "outputs": [
    {
     "name": "stdout",
     "output_type": "stream",
     "text": [
      "A:\n",
      "11\n",
      "22\n",
      "B:\n",
      "33\n",
      "44\n",
      "A\n",
      "Sum:33\n",
      "Average 16.50\n",
      "B\n",
      "Sum:77\n",
      "Average:38.50\n"
     ]
    }
   ],
   "source": [
    "# 607 成績計算\n",
    "I,J = [],[]\n",
    "\n",
    "print(\"A:\")\n",
    "for i in range(2):I.append(int(input()))\n",
    "\n",
    "print(\"B:\")\n",
    "for j in range(2):J.append(int(input()))\n",
    "\n",
    "\n",
    "        \n",
    "print(\"A\")\n",
    "print(f\"Sum:{sum(I):d}\")\n",
    "print(f\"Average {sum(I)/len(I):.2f}\")\n",
    "\n",
    "print(\"B\")\n",
    "print(f\"Sum:{sum(J):d}\")\n",
    "print(f\"Average:{sum(J)/len(J):.2f}\")"
   ]
  },
  {
   "cell_type": "code",
   "execution_count": 5,
   "metadata": {},
   "outputs": [
    {
     "name": "stdout",
     "output_type": "stream",
     "text": [
      "3\n",
      "4\n",
      "   0   1   2   3\n",
      "  -1   0   1   2\n",
      "  -2  -1   0   1\n"
     ]
    }
   ],
   "source": [
    "# 606 二維串列行列數\n",
    "def compute(x,y):\n",
    "    for i in range(x):\n",
    "        for j in range(y):\n",
    "            print(f\"{j-i:4d}\",end=\"\")\n",
    "        print()\n",
    "        \n",
    "x = int(input())\n",
    "y = int(input())\n",
    "compute(x,y)"
   ]
  },
  {
   "cell_type": "code",
   "execution_count": null,
   "metadata": {},
   "outputs": [],
   "source": [
    "# 608 最大最小值索引\n",
    "import numpy as np\n",
    "I = []\n",
    "\n",
    "for i in range(3):I.append(int(input()))\n",
    "    \n",
    "Imax = I.index(max(I))\n",
    "print(\"Index of the largest number {:d} is: ({:d}, {:d})\"\n",
    "      .format( max(I) , Imax // 3 , Imax % 3))\n",
    "\n",
    "Imin = I.index(min(I))\n",
    "print(\"Index of the smallest number {:d} is: ({:d}, {:d})\"\n",
    "      .format( min(I) , Imin // 3 , Imin % 3) )"
   ]
  },
  {
   "cell_type": "code",
   "execution_count": null,
   "metadata": {},
   "outputs": [],
   "source": [
    "# 609 矩陣相加\n",
    "\n",
    "M = [[0 for i in range(2)] for j in range(2)]\n",
    "N = [[0 for i in range(2)] for j in range(2)]\n",
    "\n",
    "print(\"Enter matrix 1:\")\n",
    "for i in range(2):\n",
    "    for j in range(2):\n",
    "        x = int(input(f\"[{i+1:}, {j+1:}]: \"))\n",
    "        M[i][j] = x\n",
    "    \n",
    "print(\"Enter matrix 2:\")\n",
    "for i in range(2):\n",
    "    for j in range(2):\n",
    "        y = int(input(f\"[{i+1:}, {j+1:}]: \"))\n",
    "        N[i][j] = y\n",
    "      \n",
    "print(\"Matrix 1:\")\n",
    "for i in range(2):\n",
    "    for j in range(2):\n",
    "        print(M[i][j],end=\" \")\n",
    "    print()    \n",
    "    \n",
    "print(\"Matrix 2:\")\n",
    "for i in range(2):\n",
    "    for j in range(2):\n",
    "        print(N[i][j],end=\" \")\n",
    "    print()  \n",
    "    \n",
    "print(\"Sum of 2 matrices:\")\n",
    "for i in range(2):\n",
    "    for j in range(2):\n",
    "        print(M[i][j]+N[i][j],end=\" \")\n",
    "    print()\n"
   ]
  },
  {
   "cell_type": "code",
   "execution_count": 6,
   "metadata": {},
   "outputs": [
    {
     "name": "stdout",
     "output_type": "stream",
     "text": [
      "Week 1:\n",
      "Day 1:1\n",
      "Day 2:1\n",
      "Week 2:\n",
      "Day 1:2\n",
      "Day 2:2\n",
      "Week 3:\n",
      "Day 1:3\n",
      "Day 2:3\n",
      "Average: 2.00\n",
      "Highest: 3\n",
      "Lowest: 1\n"
     ]
    }
   ],
   "source": [
    "# 610 平均溫度\n",
    "X=[]\n",
    "for i in range(3):\n",
    "    print(f\"Week {i+1:}:\")\n",
    "    for j in range(2):\n",
    "        x=eval(input(f\"Day {j+1:}:\"))\n",
    "        X.append(x)\n",
    "        \n",
    "Tav= sum(X)/len(X)\n",
    "\n",
    "print(f\"Average: {Tav:.2f}\")\n",
    "print(\"Highest: {}\".format(max(X)))\n",
    "print(\"Lowest: {}\".format(min(X)))\n"
   ]
  }
 ],
 "metadata": {
  "kernelspec": {
   "display_name": "Python 3",
   "language": "python",
   "name": "python3"
  },
  "language_info": {
   "codemirror_mode": {
    "name": "ipython",
    "version": 3
   },
   "file_extension": ".py",
   "mimetype": "text/x-python",
   "name": "python",
   "nbconvert_exporter": "python",
   "pygments_lexer": "ipython3",
   "version": "3.8.5"
  }
 },
 "nbformat": 4,
 "nbformat_minor": 4
}
