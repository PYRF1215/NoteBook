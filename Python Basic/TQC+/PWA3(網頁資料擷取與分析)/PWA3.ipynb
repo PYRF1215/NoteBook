{
 "cells": [
  {
   "cell_type": "markdown",
   "metadata": {},
   "source": [
    "# 101 文化部展覽資訊"
   ]
  },
  {
   "cell_type": "code",
   "execution_count": 1,
   "metadata": {},
   "outputs": [],
   "source": [
    "import json\n",
    "import csv\n",
    "\n",
    "with open(\"101.json\",\"r\",encoding=\"utf8\") as f:\n",
    "    fj = json.load(f)\n",
    "\n",
    "\n",
    "with open(\"101.csv\",\"w\",encoding=\"utf8\") as f:\n",
    "    fc = csv.writer(f)\n",
    "    \n",
    "    for item in fj:\n",
    "        fc.writerow([item[\"title\"],item[\"showUnit\"],item[\"startDate\"],item[\"endDate\"]])"
   ]
  },
  {
   "cell_type": "markdown",
   "metadata": {},
   "source": [
    "# 102 新北市公共自行車即時資訊"
   ]
  },
  {
   "cell_type": "code",
   "execution_count": null,
   "metadata": {},
   "outputs": [],
   "source": [
    "import xml.etree.ElementTree as ET\n",
    "import csv\n",
    "\n",
    "fx = ET.parse(\"102.xml\")\n",
    "root = fx.getroot()\n",
    "\n",
    "fw = open(\"102.csv\", \"w\", encoding='utf8')\n",
    "f_csv = csv.writer(fw)\n",
    "\n",
    "for row in root:\n",
    "    U = []\n",
    "    sno = row.find('sno').text  #所回傳的文字內容\n",
    "    U.append(sno)\n",
    "    sna = row.find('sna').text\n",
    "    U.append(sna)\n",
    "    tot = row.find('tot').text\n",
    "    U.append(tot)\n",
    "    f_csv.writerow(U)\n",
    "fw.close()"
   ]
  },
  {
   "cell_type": "markdown",
   "metadata": {},
   "source": [
    "# 104 JSON檔案輸出處理"
   ]
  },
  {
   "cell_type": "code",
   "execution_count": null,
   "metadata": {},
   "outputs": [],
   "source": [
    "import json\n",
    "\n",
    "a={\n",
    "'people':\n",
    "[{'id': '1','name': 'Peter','country': 'Taiwan'},\n",
    "{'id': '2','name': 'Jack','country': 'USA'},\n",
    "{'id': '3','name': 'Cindy','country': 'Japan'}]}\n",
    "\n",
    "with open('104.json', 'w') as f:\n",
    "    json.dump(a, f)"
   ]
  },
  {
   "cell_type": "markdown",
   "metadata": {},
   "source": [
    "# 201 搜尋字詞"
   ]
  },
  {
   "cell_type": "code",
   "execution_count": 15,
   "metadata": {
    "scrolled": true
   },
   "outputs": [
    {
     "name": "stdout",
     "output_type": "stream",
     "text": [
      "請輸入欲搜尋的字串 : TQC\n",
      "TQC 搜尋成功\n",
      "TQC 出現 23 次\n"
     ]
    }
   ],
   "source": [
    "import requests\n",
    "import re\n",
    "\n",
    "# 以 requests 模組發出 HTTP GET 請求\n",
    "sp = requests.get('http://tqc.codejudger.com:3000/target/5201.html')\n",
    "\n",
    "x = input(\"請輸入欲搜尋的字串 : \")\n",
    "y = re.findall(x,sp.text)\n",
    "\n",
    "\n",
    "if x in sp.text:\n",
    "    print(x,\"搜尋成功\")\n",
    "    print(x,\"出現 %d 次\" %len(y))"
   ]
  },
  {
   "cell_type": "markdown",
   "metadata": {},
   "source": [
    "# 204 新北市大專院校名單"
   ]
  },
  {
   "cell_type": "code",
   "execution_count": 1,
   "metadata": {},
   "outputs": [
    {
     "name": "stdout",
     "output_type": "stream",
     "text": [
      "新北市大專院校名單：\n",
      "\n",
      "名稱：馬偕醫專三芝校區\n",
      "地址：新北市三芝區中正路三段42號\n",
      "聯絡電話：02-26366799\n",
      "網站：www.mkc.edu.tw\n",
      "資料更新時間：2018-09-12 06:00:01.0\n",
      "\n",
      "名稱：馬偕醫學院\n",
      "地址：新北市三芝區中正路三段46號\n",
      "聯絡電話：02-26360303\n",
      "網站：www.mmc.edu.tw\n",
      "資料更新時間：2018-09-12 06:00:01.0\n",
      "\n",
      "名稱：法鼓大學\n",
      "地址：新北市金山區\n",
      "聯絡電話：\n",
      "網站：www.ddc.edu.tw/zh-tw\n",
      "資料更新時間：2018-09-12 06:00:01.0\n",
      "\n"
     ]
    }
   ],
   "source": [
    "import requests\n",
    "import json\n",
    "\n",
    "url = 'http://tqc.codejudger.com:3000/target/5204.json'\n",
    "fd = requests.get(url)\n",
    "\n",
    "x = json.loads(fd.text)\n",
    "\n",
    "print('新北市大專院校名單：\\n')\n",
    "for i in x:\n",
    "    if i['type'] == '大專院校':\n",
    "        print('名稱：%s' % i['name'])\n",
    "        print('地址：%s' % i['address'])\n",
    "        print('聯絡電話：%s' % i['tel'])\n",
    "        print('網站：%s' % i['website'])\n",
    "        print('資料更新時間：%s' % i['update_date'])\n",
    "        print()"
   ]
  },
  {
   "cell_type": "markdown",
   "metadata": {},
   "source": [
    "# 301 產品價格"
   ]
  },
  {
   "cell_type": "code",
   "execution_count": 4,
   "metadata": {},
   "outputs": [
    {
     "name": "stdout",
     "output_type": "stream",
     "text": [
      "行標題為科目，列題標為個人的所有學生成績\n",
      "     手機    電腦    電視       房子     車子\n",
      "A  7500  6200  8500   730000  60000\n",
      "B  9100  5300  5600  6300000  65000\n",
      "C  7100  8800  5100   690000  87000\n",
      "D  6900  5300  8700  7400000  70000\n",
      "\n",
      "後二位的價格\n",
      "     手機    電腦    電視       房子     車子\n",
      "C  7100  8800  5100   690000  87000\n",
      "D  6900  5300  8700  7400000  70000\n",
      "\n",
      "以房子遞減排序\n",
      "D    7400000\n",
      "B    6300000\n",
      "A     730000\n",
      "C     690000\n",
      "Name: 房子, dtype: int64\n",
      "\n"
     ]
    }
   ],
   "source": [
    "import pandas as pd\n",
    "\n",
    "# 資料輸入\n",
    "datas = [[7500, 6200, 8500, 730000, 60000], [9100, 5300, 5600, 6300000, 65000],\n",
    "         [7100, 8800, 5100, 690000, 87000], [6900, 5300, 8700, 7400000, 70000]]\n",
    "indexs_ = [\"A\", \"B\", \"C\", \"D\"]\n",
    "columns_ = [\"手機\", \"電腦\", \"電視\", \"房子\", \"車子\"]\n",
    "df = pd.DataFrame(datas, columns = columns_ ,  index = indexs_)\n",
    "\n",
    "print('行標題為科目，列題標為個人的所有學生成績')\n",
    "print(df)\n",
    "print()\n",
    "\n",
    "# 輸出後二位產品的所有價格\n",
    "print('後二位的價格')\n",
    "print(df.tail(2))\n",
    "print()\n",
    "\n",
    "# 將房子價格做遞減排序輸出\n",
    "df1 = df[\"房子\"].sort_values(ascending=False)\n",
    "print('以房子遞減排序')\n",
    "print(df1)\n",
    "print()"
   ]
  },
  {
   "cell_type": "code",
   "execution_count": 2,
   "metadata": {},
   "outputs": [
    {
     "name": "stdout",
     "output_type": "stream",
     "text": [
      "隨機正整數： [ 7  7 11  6  8 15 14 11  6  5  6 14  5  5 14]\n",
      "X矩陣內容：\n",
      "[[ 7  7 11  6  8]\n",
      " [15 14 11  6  5]\n",
      " [ 6 14  5  5 14]]\n",
      "最大： 15\n",
      "最小： 5\n",
      "總和： 134\n",
      "四個角落元素：\n",
      "[[ 7  8]\n",
      " [ 6 14]]\n"
     ]
    }
   ],
   "source": [
    "# 302 矩陣\n",
    "set_seed = 123\n",
    "\n",
    "import numpy as np\n",
    "\n",
    "x = np.random.RandomState(set_seed).randint(low=5, high=16, size=15) #伪随机数生成器：具有类似于随机数的统计特征：https://www.geeksforgeeks.org/random-sampling-in-numpy-randint-function/?ref=rp\n",
    "print('隨機正整數：', x)\n",
    "\n",
    "x = x.reshape(3, 5)\n",
    "print('X矩陣內容：')\n",
    "print(x)\n",
    "print('最大：', max(np.ravel(x)))\n",
    "print('最小：', min(np.ravel(x)))\n",
    "print('總和：', sum(np.ravel(x)))\n",
    "print('四個角落元素：')\n",
    "print(x[np.ix_([0, 2], [0, 4])])"
   ]
  },
  {
   "cell_type": "code",
   "execution_count": null,
   "metadata": {},
   "outputs": [],
   "source": []
  }
 ],
 "metadata": {
  "kernelspec": {
   "display_name": "Python 3",
   "language": "python",
   "name": "python3"
  },
  "language_info": {
   "codemirror_mode": {
    "name": "ipython",
    "version": 3
   },
   "file_extension": ".py",
   "mimetype": "text/x-python",
   "name": "python",
   "nbconvert_exporter": "python",
   "pygments_lexer": "ipython3",
   "version": "3.8.5"
  }
 },
 "nbformat": 4,
 "nbformat_minor": 4
}
