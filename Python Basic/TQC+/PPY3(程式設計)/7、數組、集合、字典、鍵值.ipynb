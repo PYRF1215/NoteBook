{
 "cells": [
  {
   "cell_type": "code",
   "execution_count": 1,
   "metadata": {},
   "outputs": [
    {
     "name": "stdout",
     "output_type": "stream",
     "text": [
      "1\n",
      "2\n",
      "3\n",
      "-9999\n",
      "(1, 2, 3)\n",
      "Length: 3\n",
      "Max: 3\n",
      "Min: 1\n",
      "Sum: 6\n"
     ]
    }
   ],
   "source": [
    "# 701 串列數組轉換\n",
    "num = 0\n",
    "lst = []\n",
    "\n",
    "while num != -9999:\n",
    "    num = int(input())\n",
    "    if num != -9999:\n",
    "        lst.append(num)\n",
    "    \n",
    "tup = tuple(lst)\n",
    "    \n",
    "print(tup)\n",
    "print(\"Length:\", len(tup))\n",
    "print(\"Max: {}\".format(max(tup)) )\n",
    "print(\"Min: {}\".format(min(tup)) )\n",
    "print(\"Sum: {}\".format(sum(tup)) )"
   ]
  },
  {
   "cell_type": "code",
   "execution_count": 2,
   "metadata": {},
   "outputs": [
    {
     "name": "stdout",
     "output_type": "stream",
     "text": [
      "Create tuple1:\n",
      "1\n",
      "2\n",
      "-9999\n",
      "Create tuple2:\n",
      "3\n",
      "4\n",
      "-9999\n",
      "Combined tuple before sorting: (1, 2, 3, 4)\n",
      "Combined list after sorting: [1, 2, 3, 4]\n"
     ]
    }
   ],
   "source": [
    "# 702 數組合併排序\n",
    "lst1,lst2 = [],[]\n",
    "\n",
    "print(\"Create tuple1:\")\n",
    "num = int(input())\n",
    "\n",
    "while num != -9999:\n",
    "    lst1.append(num)\n",
    "    num = int(input())\n",
    "    tup1 = tuple(lst1)  \n",
    "    \n",
    "print(\"Create tuple2:\")\n",
    "num = int(input())\n",
    "while num != -9999:\n",
    "    lst2.append(num)\n",
    "    num = int(input())\n",
    "    tup2 = tuple(lst2)\n",
    "    \n",
    "print(\"Combined tuple before sorting:\",tup1+tup2)\n",
    "print(\"Combined list after sorting:\",sorted(tup1+tup2))"
   ]
  },
  {
   "cell_type": "code",
   "execution_count": 3,
   "metadata": {},
   "outputs": [
    {
     "name": "stdout",
     "output_type": "stream",
     "text": [
      "1\n",
      "2\n",
      "3\n",
      "4\n",
      "5\n",
      "6\n",
      "end\n",
      "('1', '2', '3', '4', '5', '6')\n",
      "('1', '2', '3')\n",
      "('4', '5', '6')\n"
     ]
    }
   ],
   "source": [
    "# 703 數組條件判斷\n",
    "lst = []\n",
    "x = input()\n",
    "\n",
    "while x != \"end\":\n",
    "    lst.append(x)\n",
    "    x = input()\n",
    "    \n",
    "tup = tuple(lst)\n",
    "print(tup)\n",
    "print(tup[0:3])\n",
    "print(tup[-3:])"
   ]
  },
  {
   "cell_type": "code",
   "execution_count": 4,
   "metadata": {},
   "outputs": [
    {
     "name": "stdout",
     "output_type": "stream",
     "text": [
      "1\n",
      "2\n",
      "3\n",
      "-9999\n",
      "Length: 3\n",
      "Max: 3\n",
      "Min: 1\n",
      "Sum: 6\n"
     ]
    }
   ],
   "source": [
    "# 704 集合條件判斷\n",
    "S=set()\n",
    "while True:\n",
    "    x = int(input())\n",
    "    if x == -9999:\n",
    "        break\n",
    "    S.add(x)\n",
    "print(\"Length:\",len(S))\n",
    "print(\"Max:\",max(S))\n",
    "print(\"Min:\",min(S))\n",
    "print(\"Sum:\",sum(S))"
   ]
  },
  {
   "cell_type": "code",
   "execution_count": 1,
   "metadata": {},
   "outputs": [
    {
     "name": "stdout",
     "output_type": "stream",
     "text": [
      "set1:\n",
      "1\n",
      "2\n",
      "3\n",
      "set2:\n",
      "1\n",
      "2\n",
      "3\n",
      "set3:\n",
      "3\n",
      "3\n",
      "3\n",
      "set2 is subset of set1: True\n",
      "set3 is superset of set1: False\n"
     ]
    }
   ],
   "source": [
    "# 705 子集合與超集合\n",
    "y1,y2,y3 = [],[],[]\n",
    "\n",
    "print(\"set1:\")\n",
    "for i in range(3):\n",
    "    x = int(input())\n",
    "    y1.append(x)\n",
    "Y1 = set(y1)   \n",
    "\n",
    "print(\"set2:\")\n",
    "for i in range(3):\n",
    "    x = int(input())\n",
    "    y2.append(x)\n",
    "Y2 = set(y2) \n",
    "    \n",
    "print(\"set3:\")\n",
    "for i in range(3):\n",
    "    x = int(input())\n",
    "    y3.append(x)\n",
    "Y3 = set(y3)\n",
    "    \n",
    "print(\"set2 is subset of set1:\", Y2.issubset(Y1))\n",
    "print(\"set3 is superset of set1:\", Y3.issuperset(Y1))"
   ]
  },
  {
   "cell_type": "code",
   "execution_count": 2,
   "metadata": {},
   "outputs": [
    {
     "name": "stdout",
     "output_type": "stream",
     "text": [
      "請輸入第一筆資料:\n",
      "10\n",
      "20\n",
      "end\n",
      "請輸入第二筆資料\n",
      "10\n",
      "25\n",
      "end\n",
      "['10', '20', '25']\n",
      "['10']\n",
      "['25']\n",
      "['20', '25']\n"
     ]
    }
   ],
   "source": [
    "# 707 共同資料\n",
    "A,B = [],[]\n",
    "\n",
    "print(\"請輸入第一筆資料:\")\n",
    "a = input()\n",
    "while a != \"end\":\n",
    "    A.append(a)\n",
    "    a = input()\n",
    "y1 = set(A)\n",
    "    \n",
    "print(\"請輸入第二筆資料\")\n",
    "b = input()\n",
    "while b != \"end\":\n",
    "    B.append(b)\n",
    "    b = input()\n",
    "y2 = set(B)\n",
    "\n",
    "print(sorted(y1.union(y2)))\n",
    "print(sorted(y1.intersection(y2)))\n",
    "print(sorted(y2.difference(y1)))\n",
    "print(sorted(y1.difference(y2).union(y2.difference(y1))))"
   ]
  },
  {
   "cell_type": "code",
   "execution_count": 3,
   "metadata": {},
   "outputs": [
    {
     "name": "stdout",
     "output_type": "stream",
     "text": [
      "Create dict1\n",
      "Key: A\n",
      "Value: 10\n",
      "Key: end\n",
      "Create dict2\n",
      "Key: B\n",
      "Value: 20\n",
      "Key: end\n",
      "A: 10\n",
      "B: 20\n"
     ]
    }
   ],
   "source": [
    "# 708 詞典合併\n",
    "dict1 = {}\n",
    "dict2 = {}\n",
    "\n",
    "print(\"Create dict1\")\n",
    "x = input(\"Key: \")\n",
    "while x != \"end\":\n",
    "    val = input(\"Value: \")\n",
    "    dict1[x] = val\n",
    "    x = input(\"Key: \")\n",
    "    \n",
    "print(\"Create dict2\")\n",
    "x = input(\"Key: \")\n",
    "while x != \"end\":\n",
    "    val = input(\"Value: \")\n",
    "    dict2[x] = val\n",
    "    x = input(\"Key: \")\n",
    "\n",
    "dict3 = dict(dict1,**dict2)\n",
    "\n",
    "for key in sorted(dict3.keys()):\n",
    "  print(f\"{key}: {dict3[key]}\")"
   ]
  },
  {
   "cell_type": "code",
   "execution_count": 4,
   "metadata": {},
   "outputs": [
    {
     "name": "stdout",
     "output_type": "stream",
     "text": [
      "Key: A\n",
      "Value: 1\n",
      "Key: B\n",
      "Value: 77\n",
      "Key: D\n",
      "Value: 5\n",
      "Key: C\n",
      "Value: 9\n",
      "Key: end\n",
      "A: 1\n",
      "B: 77\n",
      "C: 9\n",
      "D: 5\n"
     ]
    }
   ],
   "source": [
    "# 709 鍵值排序\n",
    "dict = {}\n",
    "\n",
    "x = input(\"Key: \")\n",
    "while x != \"end\":\n",
    "    val = input(\"Value: \")\n",
    "    dict[x] = val\n",
    "    x = input(\"Key: \")\n",
    "    \n",
    "for key in sorted(dict.keys()):print(f\"{key}: {dict[key]}\")"
   ]
  },
  {
   "cell_type": "code",
   "execution_count": 5,
   "metadata": {},
   "outputs": [
    {
     "name": "stdout",
     "output_type": "stream",
     "text": [
      "Key: a\n",
      "Value: 1\n",
      "Key: b\n",
      "Value: 2\n",
      "Key: c\n",
      "Value: 3\n",
      "Key: end\n",
      "Search key: b\n",
      "True\n"
     ]
    }
   ],
   "source": [
    "# 710 鍵值搜尋\n",
    "dct = {}\n",
    "\n",
    "x = input(\"Key: \")\n",
    "while x != \"end\":\n",
    "    value_input = input(\"Value: \")\n",
    "    dct[x] = value_input\n",
    "    x = input(\"Key: \")\n",
    "\n",
    "key = input(\"Search key: \")\n",
    "print(\"True\") if key in dct else print(\"False\")"
   ]
  },
  {
   "cell_type": "code",
   "execution_count": null,
   "metadata": {},
   "outputs": [],
   "source": []
  }
 ],
 "metadata": {
  "kernelspec": {
   "display_name": "Python 3",
   "language": "python",
   "name": "python3"
  },
  "language_info": {
   "codemirror_mode": {
    "name": "ipython",
    "version": 3
   },
   "file_extension": ".py",
   "mimetype": "text/x-python",
   "name": "python",
   "nbconvert_exporter": "python",
   "pygments_lexer": "ipython3",
   "version": "3.8.5"
  }
 },
 "nbformat": 4,
 "nbformat_minor": 4
}
