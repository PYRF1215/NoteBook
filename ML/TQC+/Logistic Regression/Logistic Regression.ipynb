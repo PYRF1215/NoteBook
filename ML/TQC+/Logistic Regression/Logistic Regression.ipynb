{
 "cells": [
  {
   "cell_type": "markdown",
   "metadata": {},
   "source": [
    "# Titanic survival prediction"
   ]
  },
  {
   "cell_type": "code",
   "execution_count": null,
   "metadata": {},
   "outputs": [],
   "source": [
    "邏輯迴歸 Logistic Regression：\n",
    "使用分類演算法中的邏輯迴歸 Logistic Regression進行鐵達尼號生存預測年齡、性別及準確度."
   ]
  },
  {
   "cell_type": "code",
   "execution_count": 9,
   "metadata": {},
   "outputs": [],
   "source": [
    "import pandas as pd\n",
    "import numpy as np\n",
    "from sklearn import preprocessing, linear_model"
   ]
  },
  {
   "cell_type": "code",
   "execution_count": 11,
   "metadata": {
    "scrolled": true
   },
   "outputs": [],
   "source": [
    "#讀取titanic.csv;Age欄位的NA值，以年齡的中位數代入"
   ]
  },
  {
   "cell_type": "code",
   "execution_count": 12,
   "metadata": {},
   "outputs": [
    {
     "name": "stdout",
     "output_type": "stream",
     "text": [
      "raw data\n",
      "年齡中位數= 28.0\n",
      "new data\n"
     ]
    }
   ],
   "source": [
    "# 原始資料\n",
    "titanic = pd.read_csv(\"titanic.csv\")\n",
    "print('raw data')\n",
    "# TODO\n",
    "\n",
    "age = titanic['Age']\n",
    "\n",
    "# 將年齡的空值填入年齡的中位數\n",
    "# TODO\n",
    "\n",
    "age_median = np.nanmedian(age)\n",
    "\n",
    "\n",
    "print(\"年齡中位數=\",age_median)\n",
    "# TODO\n",
    "\n",
    "age_new = np.where (age.isnull(),age_median,age)#isnull()判斷是否為空值\n",
    "\n",
    "\n",
    "# 更新後資料\n",
    "print('new data')"
   ]
  },
  {
   "cell_type": "markdown",
   "metadata": {},
   "source": [
    "乘客等級(PClass)、年齡(Age)和性別碼(SexCode)三欄位的資料訓練邏輯迴歸預測模型"
   ]
  },
  {
   "cell_type": "code",
   "execution_count": 17,
   "metadata": {},
   "outputs": [
    {
     "name": "stdout",
     "output_type": "stream",
     "text": [
      "截距= [1.99663426]\n",
      "迴歸係數= [[-1.1832979   2.3834008  -0.03499218]]\n",
      "Confusion Matrix 準確度： 0.814927646610815\n"
     ]
    }
   ],
   "source": [
    "# TODO\n",
    "titanic['Age']= age_new\n",
    "\n",
    "# 轉換欄位值成為數值\n",
    "label_encoder = preprocessing.LabelEncoder()\n",
    "encoded_class = label_encoder.fit_transform( titanic['PClass']       )\n",
    "\n",
    "# TODO\n",
    "X = pd.DataFrame([encoded_class,titanic['SexCode'] ,age])\n",
    "X = X.T\n",
    "\n",
    "y = titanic['Survived']\n",
    "\n",
    "\n",
    "# 建立模型\n",
    "lg = linear_model.LogisticRegression()\n",
    "lg.fit(X,y)\n",
    "\n",
    "\n",
    "print('截距=',lg.intercept_          )\n",
    "print('迴歸係數=',lg.coef_       )\n",
    "\n",
    "\n",
    "# 混淆矩陣(Confusion Matrix)，計算準確度\n",
    "print('Confusion Matrix 準確度：',lg.score(X,y))"
   ]
  },
  {
   "cell_type": "code",
   "execution_count": null,
   "metadata": {},
   "outputs": [],
   "source": []
  }
 ],
 "metadata": {
  "kernelspec": {
   "display_name": "Python 3",
   "language": "python",
   "name": "python3"
  },
  "language_info": {
   "codemirror_mode": {
    "name": "ipython",
    "version": 3
   },
   "file_extension": ".py",
   "mimetype": "text/x-python",
   "name": "python",
   "nbconvert_exporter": "python",
   "pygments_lexer": "ipython3",
   "version": "3.8.5"
  }
 },
 "nbformat": 4,
 "nbformat_minor": 4
}
