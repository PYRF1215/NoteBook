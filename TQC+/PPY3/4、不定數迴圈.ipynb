{
 "cells": [
  {
   "cell_type": "markdown",
   "metadata": {},
   "source": [
    "# "
   ]
  },
  {
   "cell_type": "code",
   "execution_count": 4,
   "metadata": {},
   "outputs": [
    {
     "name": "stdout",
     "output_type": "stream",
     "text": [
      "3\n",
      "5\n",
      "7\n",
      "最小值： 3\n"
     ]
    }
   ],
   "source": [
    "# 401 最小值 v\n",
    "\n",
    "X=[]\n",
    "for i in range(3):\n",
    "    x=int(input())\n",
    "    X.append(x)\n",
    "print(\"最小值：\",min(X))"
   ]
  },
  {
   "cell_type": "code",
   "execution_count": 5,
   "metadata": {},
   "outputs": [
    {
     "name": "stdout",
     "output_type": "stream",
     "text": [
      "3\n",
      "4\n",
      "5\n",
      "9999\n",
      "4\n"
     ]
    }
   ],
   "source": [
    "# 402 不定數迴圈-最小值  v\n",
    "\n",
    "n=int(input())\n",
    "N=[]\n",
    "while 1:\n",
    "    n=int(input())\n",
    "    \n",
    "    if n == 9999:\n",
    "        break\n",
    "    N.append(int(n))\n",
    "    \n",
    "print(min(N))"
   ]
  },
  {
   "cell_type": "code",
   "execution_count": 14,
   "metadata": {},
   "outputs": [
    {
     "name": "stdout",
     "output_type": "stream",
     "text": [
      "4\n",
      "8\n",
      "4   8   \n",
      "長度為[4, 8] 2\n",
      "倍數總和為[4, 8] 12\n"
     ]
    }
   ],
   "source": [
    "# 403 倍數總和計算  V  \n",
    "a,b = int(input()),int(input())\n",
    "col = 0\n",
    "I=[]\n",
    "for i in range(a, b+1):\n",
    "    if i % 4 == 0 or i % 9 == 0:\n",
    "        I.append(i)\n",
    "        col = col + 1\n",
    "        print(f\"{i:<4d}\",end=\"\") \n",
    "        if col % 10 == 0:\n",
    "            print()\n",
    "print()\n",
    "print(f\"長度為{I}\",len(I))\n",
    "print(f\"倍數總和為{I}\",sum(I))"
   ]
  },
  {
   "cell_type": "code",
   "execution_count": null,
   "metadata": {},
   "outputs": [],
   "source": [
    "# 404 數字反轉判斷 v (重覆題型)"
   ]
  },
  {
   "cell_type": "code",
   "execution_count": 1,
   "metadata": {},
   "outputs": [
    {
     "name": "stdout",
     "output_type": "stream",
     "text": [
      "95\n",
      "A\n",
      "0\n",
      "C\n",
      "-9999\n"
     ]
    }
   ],
   "source": [
    "# 405 不定數迴圈-分數等級  v\n",
    "x=int\n",
    "while 1:\n",
    "    x=int(input())   \n",
    "    if x == -9999:\n",
    "        break\n",
    "    if 90<=x<=100:print(\"A\")\n",
    "    elif 80<=x<=89:print(\"B\")\n",
    "    else: print(\"C\")"
   ]
  },
  {
   "cell_type": "code",
   "execution_count": 3,
   "metadata": {},
   "outputs": [
    {
     "name": "stdout",
     "output_type": "stream",
     "text": [
      "20\n",
      "10\n",
      "BMI: 250.00\n",
      "狀態:胖\n",
      "-9999\n"
     ]
    }
   ],
   "source": [
    "# 406 不定數迴圈-BMI計算   V\n",
    "while 1:\n",
    "    H=float(input())\n",
    "    if H == -9999:\n",
    "        break\n",
    "    \n",
    "    W=float(input())\n",
    "    if W == -9999:\n",
    "        break\n",
    "    \n",
    "    BMI = W/ (H/100) ** 2     # cm → m 需除100\n",
    "    print(f\"BMI: {BMI:.2f}\")\n",
    "    \n",
    "    if BMI < 18.5:print(\"狀態:過輕\")\n",
    "    elif 18.5 <= BMI < 25 : print(\"狀態:正常\")\n",
    "    elif 25.0 <= BMI < 30 : print(\"狀態:偏重\")\n",
    "    else: print(\"狀態:胖\")"
   ]
  },
  {
   "cell_type": "code",
   "execution_count": 4,
   "metadata": {},
   "outputs": [
    {
     "name": "stdout",
     "output_type": "stream",
     "text": [
      "100\n",
      "100不是閏年.\n",
      "-9999\n"
     ]
    }
   ],
   "source": [
    "# 407 不定數迴圈-閏年判斷 V   \n",
    "y=int\n",
    "while 1:                   \n",
    "    y=int(input())   \n",
    "    \n",
    "    if y == -9999:\n",
    "        break\n",
    "    elif (y % 4 == 0 and y % 100 != 0) or y % 400 == 0 :   print(f\"{y:}是閏年.\" )\n",
    "    else: print(f\"{y:}不是閏年.\" )"
   ]
  },
  {
   "cell_type": "code",
   "execution_count": 5,
   "metadata": {},
   "outputs": [
    {
     "name": "stdout",
     "output_type": "stream",
     "text": [
      "99\n",
      "88\n",
      "44\n",
      "2→偶\n",
      "1→單\n"
     ]
    }
   ],
   "source": [
    "# 408 奇偶數個數計算  V\n",
    "\n",
    "Even=[]\n",
    "Odd=[]\n",
    "for i in range(3):\n",
    "    x=int(input())\n",
    "    if x%2==0: Even.append(x)\n",
    "    else: Odd.append(x)\n",
    "        \n",
    "        \n",
    "print(f\"{len(Even)}→偶\")\n",
    "print(f\"{len(Odd)}→單\")"
   ]
  },
  {
   "cell_type": "code",
   "execution_count": 10,
   "metadata": {},
   "outputs": [
    {
     "name": "stdout",
     "output_type": "stream",
     "text": [
      "1\n",
      "1號A得票數:1\n",
      "2號B得票數:0\n",
      "廢票=0\n",
      "2\n",
      "1號A得票數:1\n",
      "2號B得票數:1\n",
      "廢票=0\n",
      "0\n",
      "1號A得票數:1\n",
      "2號B得票數:1\n",
      "廢票=1\n",
      "=> 平手.\n"
     ]
    }
   ],
   "source": [
    "# 409 得票數計算  V\n",
    "a,b,null=0,0,0\n",
    "\n",
    "for i in range(3):\n",
    "    x = int(input())\n",
    "    if  x == 1: a += 1\n",
    "    elif  x == 2:b += 1\n",
    "    else: null += 1\n",
    "        \n",
    "    print(f\"1號A得票數:{a:}\")\n",
    "    print(f\"2號B得票數:{b:}\")\n",
    "    print(f\"廢票={null:}\")\n",
    "        \n",
    "if a > b:print(\"=> 1號A勝利.\")\n",
    "elif a < b:print(\"=> 2號B勝利.\")\n",
    "else:print(\"=> 平手.\")"
   ]
  },
  {
   "cell_type": "code",
   "execution_count": 2,
   "metadata": {},
   "outputs": [
    {
     "name": "stdout",
     "output_type": "stream",
     "text": [
      "3\n",
      "  *\n",
      " ***\n",
      "*****\n"
     ]
    }
   ],
   "source": [
    "# 410 繪製等腰三角形\n",
    "n = int(input())\n",
    "\n",
    "for i in range(1,n+1):\n",
    "    print(\" \"*(n-i)+\"*\"*(2*i-1))"
   ]
  }
 ],
 "metadata": {
  "kernelspec": {
   "display_name": "Python 3",
   "language": "python",
   "name": "python3"
  },
  "language_info": {
   "codemirror_mode": {
    "name": "ipython",
    "version": 3
   },
   "file_extension": ".py",
   "mimetype": "text/x-python",
   "name": "python",
   "nbconvert_exporter": "python",
   "pygments_lexer": "ipython3",
   "version": "3.8.5"
  }
 },
 "nbformat": 4,
 "nbformat_minor": 4
}
