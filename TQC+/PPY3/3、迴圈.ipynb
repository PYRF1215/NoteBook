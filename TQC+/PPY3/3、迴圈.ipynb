{
 "cells": [
  {
   "cell_type": "markdown",
   "metadata": {},
   "source": [
    "# 3、迴圈"
   ]
  },
  {
   "cell_type": "code",
   "execution_count": 4,
   "metadata": {},
   "outputs": [
    {
     "name": "stdout",
     "output_type": "stream",
     "text": [
      "1\n",
      "100\n",
      "5050\n"
     ]
    }
   ],
   "source": [
    "# 301 迴圈整數連加 v\n",
    "a=int(input())\n",
    "b=int(input())\n",
    "\n",
    "T=0\n",
    "for i in range(a,b+1):\n",
    "    T=T+i\n",
    "print(T)"
   ]
  },
  {
   "cell_type": "code",
   "execution_count": 5,
   "metadata": {},
   "outputs": [
    {
     "name": "stdout",
     "output_type": "stream",
     "text": [
      "10\n",
      "20\n",
      "10為偶數\n",
      "12為偶數\n",
      "14為偶數\n",
      "16為偶數\n",
      "18為偶數\n",
      "20為偶數\n"
     ]
    }
   ],
   "source": [
    "# 302 迴圈偶數連加 v\n",
    "a = int(input())\n",
    "b = int(input())\n",
    "for i in range(a,b+1):\n",
    "    if i%2==0:print(f\"{i}為偶數\")"
   ]
  },
  {
   "cell_type": "code",
   "execution_count": 8,
   "metadata": {},
   "outputs": [
    {
     "name": "stdout",
     "output_type": "stream",
     "text": [
      "10\n",
      "   1\n",
      "   2   4\n",
      "   3   6   9\n",
      "   4   8  12  16\n",
      "   5  10  15  20  25\n",
      "   6  12  18  24  30  36\n",
      "   7  14  21  28  35  42  49\n",
      "   8  16  24  32  40  48  56  64\n",
      "   9  18  27  36  45  54  63  72  81\n",
      "  10  20  30  40  50  60  70  80  90 100\n"
     ]
    }
   ],
   "source": [
    "# 303 迴圈數值相乘   v\n",
    "n = int(input())\n",
    "\n",
    "for i in range( 1, n+1 ):\n",
    "    for j in range( 1, i+1 ):\n",
    "        print( f\"{i*j:4d}\",end='' )\n",
    "    print()"
   ]
  },
  {
   "cell_type": "code",
   "execution_count": 6,
   "metadata": {},
   "outputs": [
    {
     "name": "stdout",
     "output_type": "stream",
     "text": [
      "100\n",
      "5為5的整數\n",
      "10為5的整數\n",
      "15為5的整數\n",
      "20為5的整數\n",
      "25為5的整數\n",
      "30為5的整數\n",
      "35為5的整數\n",
      "40為5的整數\n",
      "45為5的整數\n",
      "50為5的整數\n",
      "55為5的整數\n",
      "60為5的整數\n",
      "65為5的整數\n",
      "70為5的整數\n",
      "75為5的整數\n",
      "80為5的整數\n",
      "85為5的整數\n",
      "90為5的整數\n",
      "95為5的整數\n",
      "100為5的整數\n"
     ]
    }
   ],
   "source": [
    "# 304 迴圈倍數總和 v\n",
    "a = int(input())\n",
    "for i in range(1,a+1): \n",
    "    if i%5==0:print(f\"{i}為5的整數\")"
   ]
  },
  {
   "cell_type": "code",
   "execution_count": 7,
   "metadata": {},
   "outputs": [
    {
     "name": "stdout",
     "output_type": "stream",
     "text": [
      "123\n",
      "321"
     ]
    }
   ],
   "source": [
    "# 305 數字反轉 v\n",
    "x=input()\n",
    "for i in range(len(x)-1,-1,-1):\n",
    "    print(x[i],end=\"\")"
   ]
  },
  {
   "cell_type": "code",
   "execution_count": 9,
   "metadata": {},
   "outputs": [
    {
     "name": "stdout",
     "output_type": "stream",
     "text": [
      "3\n",
      "6\n"
     ]
    }
   ],
   "source": [
    "# 306 迴圈階乘計算 v\n",
    "n = int(input())\n",
    "T = 1   #因為是乘法算式不能為0\n",
    "\n",
    "for i in range(1,n+1):\n",
    "    T *= i\n",
    "print(T)  "
   ]
  },
  {
   "cell_type": "code",
   "execution_count": 10,
   "metadata": {},
   "outputs": [
    {
     "name": "stdout",
     "output_type": "stream",
     "text": [
      "9\n",
      "1 * 1 = 1   2 * 1 = 2   3 * 1 = 3   4 * 1 = 4   5 * 1 = 5   6 * 1 = 6   7 * 1 = 7   8 * 1 = 8   9 * 1 = 9   \n",
      "1 * 2 = 2   2 * 2 = 4   3 * 2 = 6   4 * 2 = 8   5 * 2 = 10  6 * 2 = 12  7 * 2 = 14  8 * 2 = 16  9 * 2 = 18  \n",
      "1 * 3 = 3   2 * 3 = 6   3 * 3 = 9   4 * 3 = 12  5 * 3 = 15  6 * 3 = 18  7 * 3 = 21  8 * 3 = 24  9 * 3 = 27  \n",
      "1 * 4 = 4   2 * 4 = 8   3 * 4 = 12  4 * 4 = 16  5 * 4 = 20  6 * 4 = 24  7 * 4 = 28  8 * 4 = 32  9 * 4 = 36  \n",
      "1 * 5 = 5   2 * 5 = 10  3 * 5 = 15  4 * 5 = 20  5 * 5 = 25  6 * 5 = 30  7 * 5 = 35  8 * 5 = 40  9 * 5 = 45  \n",
      "1 * 6 = 6   2 * 6 = 12  3 * 6 = 18  4 * 6 = 24  5 * 6 = 30  6 * 6 = 36  7 * 6 = 42  8 * 6 = 48  9 * 6 = 54  \n",
      "1 * 7 = 7   2 * 7 = 14  3 * 7 = 21  4 * 7 = 28  5 * 7 = 35  6 * 7 = 42  7 * 7 = 49  8 * 7 = 56  9 * 7 = 63  \n",
      "1 * 8 = 8   2 * 8 = 16  3 * 8 = 24  4 * 8 = 32  5 * 8 = 40  6 * 8 = 48  7 * 8 = 56  8 * 8 = 64  9 * 8 = 72  \n",
      "1 * 9 = 9   2 * 9 = 18  3 * 9 = 27  4 * 9 = 36  5 * 9 = 45  6 * 9 = 54  7 * 9 = 63  8 * 9 = 72  9 * 9 = 81  \n"
     ]
    }
   ],
   "source": [
    "# 307 乘法表   v\n",
    "n = int(input())\n",
    "    \n",
    "for j in range(1,n+1):\n",
    "    for i in range(1,n+1):\n",
    "        print(f\"{i:<2.0f}* {j:<2.0f}= {i*j:<4.0f}\",end='')\n",
    "    print()"
   ]
  },
  {
   "cell_type": "code",
   "execution_count": 12,
   "metadata": {},
   "outputs": [
    {
     "name": "stdout",
     "output_type": "stream",
     "text": [
      "1\n",
      "10\n",
      "Sum of all digits of 10 is 1\n"
     ]
    }
   ],
   "source": [
    "# 308 迴圈位數加總\n",
    "x = int(input())\n",
    "for i in range(x): \n",
    "    T = 0\n",
    "    x = input()\n",
    "    \n",
    "    for i in range(len(x)):\n",
    "        T += int(x[i])\n",
    "    print(f\"Sum of all digits of {x:} is {T:}\")"
   ]
  },
  {
   "cell_type": "code",
   "execution_count": 13,
   "metadata": {},
   "outputs": [
    {
     "name": "stdout",
     "output_type": "stream",
     "text": [
      "2\n",
      "4\n",
      "6\n",
      "Month \t  Amount\n",
      "  1 \t 2.01\n",
      "  2 \t 2.01\n",
      "  3 \t 2.02\n",
      "  4 \t 2.03\n",
      "  5 \t 2.03\n",
      "  6 \t 2.04\n"
     ]
    }
   ],
   "source": [
    "# 309 存款總額  v\n",
    "x = float(input())\n",
    "y = eval(input())   \n",
    "m = int(input())\n",
    "\n",
    "print(\"Month \\t  Amount\")\n",
    "\n",
    "for i  in range( 1, m+1 ):\n",
    "    T = x + x  * y / 1200\n",
    "    x = T\n",
    "    print(f\"{i:3d} \\t {T:.2f}\")"
   ]
  },
  {
   "cell_type": "code",
   "execution_count": 14,
   "metadata": {},
   "outputs": [
    {
     "name": "stdout",
     "output_type": "stream",
     "text": [
      "5\n",
      "1.2361\n"
     ]
    }
   ],
   "source": [
    "# 310 迴圈公式計算   v\n",
    "x = int(input())\n",
    "\n",
    "T = 0    \n",
    "for i in range(2,x+1):\n",
    "    ans = 1 / (((i -1) ** .5) + i ** .5)\n",
    "    T += ans\n",
    "\n",
    "print(f\"{T:.4f}\")"
   ]
  },
  {
   "cell_type": "code",
   "execution_count": null,
   "metadata": {},
   "outputs": [],
   "source": []
  }
 ],
 "metadata": {
  "kernelspec": {
   "display_name": "Python 3",
   "language": "python",
   "name": "python3"
  },
  "language_info": {
   "codemirror_mode": {
    "name": "ipython",
    "version": 3
   },
   "file_extension": ".py",
   "mimetype": "text/x-python",
   "name": "python",
   "nbconvert_exporter": "python",
   "pygments_lexer": "ipython3",
   "version": "3.8.5"
  }
 },
 "nbformat": 4,
 "nbformat_minor": 4
}
