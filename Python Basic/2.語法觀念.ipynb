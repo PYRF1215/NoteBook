{
 "cells": [
  {
   "cell_type": "code",
   "execution_count": 1,
   "metadata": {},
   "outputs": [
    {
     "name": "stdout",
     "output_type": "stream",
     "text": [
      "ABC 't\n",
      "ABC 't\n",
      "A\n",
      "B\tC  \n"
     ]
    }
   ],
   "source": [
    "# 1.逸出字元:\n",
    "\n",
    "x = 'ABC \\'t'\n",
    "print(x)\n",
    "\n",
    "y = \"ABC \\'t\"\n",
    "print(y)\n",
    "\n",
    "z = \"A\\nB\\tC  \"\n",
    "print(z)\n",
    "\n",
    "# Description：\\t = Tab , \\n = 換行 , \\ :字串遇\\只能用單引號,若雙引號則不需要."
   ]
  },
  {
   "cell_type": "code",
   "execution_count": 28,
   "metadata": {},
   "outputs": [
    {
     "name": "stdout",
     "output_type": "stream",
     "text": [
      "Hi!\n",
      "YC\n",
      "Hi!\\nYC\n"
     ]
    }
   ],
   "source": [
    "# 2.字串前的r:\n",
    "x = \"Hi!\\nYC\"\n",
    "print(x)\n",
    "y = r\"Hi!\\nYC\"\n",
    "print(y)"
   ]
  },
  {
   "cell_type": "code",
   "execution_count": 24,
   "metadata": {},
   "outputs": [
    {
     "name": "stdout",
     "output_type": "stream",
     "text": [
      "b'\\xe8\\xa8\\xb1\\xe8\\x82\\xb2\\xe6\\x99\\x9f':<class 'bytes'>\n",
      "許育晟:<class 'str'>\n"
     ]
    }
   ],
   "source": [
    "# 3.資料格式轉換:\n",
    "x = '許育晟'\n",
    "\n",
    "x1 = x.encode('utf-8')\n",
    "print('{}:{}'.format(x1,type(x1)))\n",
    "\n",
    "y1 = x1.decode()\n",
    "print('{}:{}'.format(y1,type(y1)))\n",
    "\n"
   ]
  },
  {
   "cell_type": "code",
   "execution_count": 25,
   "metadata": {},
   "outputs": [
    {
     "name": "stdout",
     "output_type": "stream",
     "text": [
      "b'yc':<class 'bytes'>\n",
      "yc:<class 'str'>\n"
     ]
    }
   ],
   "source": [
    "x = 'yc'\n",
    "\n",
    "x1 = x.encode('utf-8')\n",
    "print('{}:{}'.format(x1,type(x1)))\n",
    "\n",
    "y1 = x1.decode()\n",
    "print('{}:{}'.format(y1,type(y1)))\n",
    "\n",
    "#Description：將字串轉成utf-8格式bytes資料，然後再轉回unicode"
   ]
  },
  {
   "cell_type": "code",
   "execution_count": 34,
   "metadata": {},
   "outputs": [
    {
     "name": "stdout",
     "output_type": "stream",
     "text": [
      "9.9\n",
      "9.879\n"
     ]
    }
   ],
   "source": [
    "# 4.保留小數至第n位:\n",
    "val = '%.4f'%9.8789\n",
    "x = round(float(val), 1)\n",
    "print(x)\n",
    "z = round(float(val), 3)\n",
    "print( z)"
   ]
  },
  {
   "cell_type": "code",
   "execution_count": 1,
   "metadata": {},
   "outputs": [
    {
     "name": "stdout",
     "output_type": "stream",
     "text": [
      "最先出現位置:  16\n",
      "最後出現位置:  16\n"
     ]
    }
   ],
   "source": [
    "# 5.字串位置:\n",
    "x = '''MIT YC told MIT RF that the video\n",
    "had given to MIT King'''\n",
    "print(\"最先出現位置: \", x.find(\"RF\"))\n",
    "print(\"最後出現位置: \", x.rfind(\"RF\"))\n",
    "\n",
    "#Description:皆從前面數到最後遇見的位置,沒有則為-1"
   ]
  },
  {
   "cell_type": "code",
   "execution_count": 43,
   "metadata": {},
   "outputs": [
    {
     "name": "stdout",
     "output_type": "stream",
     "text": [
      "1\n"
     ]
    }
   ],
   "source": [
    "# 6.字串出現次數：\n",
    "x = '''HI my name is YC'''\n",
    "y = x.count('YC')\n",
    "print(y)"
   ]
  },
  {
   "cell_type": "code",
   "execution_count": 45,
   "metadata": {},
   "outputs": [
    {
     "name": "stdout",
     "output_type": "stream",
     "text": [
      "MIT,YC,told,MIT,RF\n"
     ]
    }
   ],
   "source": [
    "# 7.取代replace()\n",
    "x = 'MIT YC told MIT RF'\n",
    "y = x.replace(' ', ',')\n",
    "print(y)"
   ]
  },
  {
   "cell_type": "code",
   "execution_count": 1,
   "metadata": {},
   "outputs": [
    {
     "name": "stdout",
     "output_type": "stream",
     "text": [
      "MIT,YC,told,MIT,RF\n"
     ]
    }
   ],
   "source": [
    "# 8.取代join()\n",
    "x = 'MIT YC told MIT RF'\n",
    "y = x.split(' ')\n",
    "z = ','.join(y)\n",
    "print(z)"
   ]
  },
  {
   "cell_type": "code",
   "execution_count": 48,
   "metadata": {},
   "outputs": [
    {
     "name": "stdout",
     "output_type": "stream",
     "text": [
      "array('i', [5, 15, 25, 35, 45])\n",
      "['a', 5, 15, 25, 35, 45]\n"
     ]
    }
   ],
   "source": [
    "# 9.陣列及串列差異\n",
    "from array import *\n",
    "x = array('i', [5, 15, 25, 35, 45])  \n",
    "print(x)\n",
    "\n",
    "y = ['a', 5, 15, 25, 35, 45]\n",
    "print(y)\n",
    "\n",
    "# 陣列:要相同的數據型態,較省記憶體空間\n",
    "# 串列:不要相同數據型態,較費記憶體空間"
   ]
  },
  {
   "cell_type": "code",
   "execution_count": 49,
   "metadata": {},
   "outputs": [
    {
     "name": "stdout",
     "output_type": "stream",
     "text": [
      "x[-1] =  7\n",
      "x[-3] =  0\n"
     ]
    }
   ],
   "source": [
    "# 10.索引\n",
    "x = [0, 9, 0, 9, 1, 8, 2, 6, 9, 7]  \n",
    "print('x[-1] = ', x[-1])\n",
    "print('x[-8] = ', x[-8])"
   ]
  },
  {
   "cell_type": "code",
   "execution_count": 50,
   "metadata": {},
   "outputs": [
    {
     "name": "stdout",
     "output_type": "stream",
     "text": [
      "x[1:n]  =  [1, 2]\n",
      "x[:n]   =  [0, 1, 2]\n",
      "x[:-n]  =  [0, 1, 2, 3, 4, 5, 6]\n",
      "x[n:]   =  [3, 4, 5, 6, 7, 8, 9]\n",
      "x[-n:]  =  [7, 8, 9]\n",
      "x[:]    =  [0, 1, 2, 3, 4, 5, 6, 7, 8, 9]\n",
      "x[::-1] =  [9, 8, 7, 6, 5, 4, 3, 2, 1, 0]\n"
     ]
    }
   ],
   "source": [
    "#? 11.切片 \n",
    "x = [0, 1, 2, 3, 4, 5, 6, 7, 8, 9]\n",
    "n = 3\n",
    "print('x[1:n]  = ', x[1:n])\n",
    "print('x[:n]   = ', x[:n])\n",
    "print('x[:-n]  = ', x[:-n])\n",
    "print('x[n:]   = ', x[n:])\n",
    "print('x[-n:]  = ', x[-n:])\n",
    "print('x[:]    = ', x[:])\n",
    "print('x[::-1] = ', x[::-1])"
   ]
  },
  {
   "cell_type": "code",
   "execution_count": 51,
   "metadata": {},
   "outputs": [
    {
     "name": "stdout",
     "output_type": "stream",
     "text": [
      "['A', ['B']]\n"
     ]
    }
   ],
   "source": [
    "# 12.append()\n",
    "x = ['A']\n",
    "y = ['B']\n",
    "x.append(y)\n",
    "print(x)"
   ]
  },
  {
   "cell_type": "code",
   "execution_count": 52,
   "metadata": {},
   "outputs": [
    {
     "name": "stdout",
     "output_type": "stream",
     "text": [
      "['A', 'B']\n"
     ]
    }
   ],
   "source": [
    "# 13.extend()\n",
    "x = ['A']\n",
    "y = ['B']\n",
    "x.extend(y)\n",
    "print(x)"
   ]
  },
  {
   "cell_type": "code",
   "execution_count": 54,
   "metadata": {},
   "outputs": [
    {
     "name": "stdout",
     "output_type": "stream",
     "text": [
      "['A', 'B'] ['B']\n"
     ]
    }
   ],
   "source": [
    "# 14.extend()\n",
    "x = ['A']\n",
    "y = ['B']\n",
    "x += y\n",
    "print(x,y)"
   ]
  },
  {
   "cell_type": "code",
   "execution_count": 8,
   "metadata": {},
   "outputs": [
    {
     "name": "stdout",
     "output_type": "stream",
     "text": [
      "字串測試:\n",
      "字串=Python, addr=2411272778416\n",
      "字串=Python, addr=2411272778416\n",
      "字串=Python, addr=2411272778416\n",
      "字串=Python, addr=2411272778416\n",
      "整數測試:\n",
      "整數=80, 位址=140721441288448\n",
      "整數=80, 位址=140721441288448\n",
      "整數=80, 位址=140721441288448\n",
      "整數=80, 位址=140721441288448\n"
     ]
    }
   ],
   "source": [
    "#? 15.\n",
    "import copy\n",
    "\n",
    "print('字串測試:')\n",
    "a = 'Python'\n",
    "b = a\n",
    "c = copy.copy(a)\n",
    "d = copy.deepcopy(a)\n",
    "print('字串={}, addr={}'.format(a, id(a)))\n",
    "print('字串={}, addr={}'.format(b, id(b)))\n",
    "print('字串={}, addr={}'.format(c, id(c)))\n",
    "print('字串={}, addr={}'.format(d, id(d)))\n",
    "\n",
    "print('整數測試:')\n",
    "a = 80\n",
    "b = a\n",
    "c = copy.copy(a)\n",
    "d = copy.deepcopy(a)\n",
    "print('整數={}, 位址={}'.format(a, id(a)))\n",
    "print('整數={}, 位址={}'.format(b, id(b)))\n",
    "print('整數={}, 位址={}'.format(c, id(c)))\n",
    "print('整數={}, 位址={}'.format(d, id(d)))\n"
   ]
  },
  {
   "cell_type": "markdown",
   "metadata": {},
   "source": [
    "<h6>#Description: </h6>  \n",
    "．應用時機：    <br>\n",
    "不可變數資料觀念相同，變數具有相同位址，故    <br>\n",
    "某一資料改，所有變數資料也會改。\n"
   ]
  },
  {
   "cell_type": "code",
   "execution_count": 63,
   "metadata": {},
   "outputs": [
    {
     "name": "stdout",
     "output_type": "stream",
     "text": [
      "i love u → ['i', 'love', 'u'] → 3\n",
      "D:\\Job\\inter → ['D:', 'Job', 'inter'] → 3\n"
     ]
    }
   ],
   "source": [
    "# 16.\n",
    "x = \"i love u\"\n",
    "y = \"D:\\Job\\inter\"\n",
    "\n",
    "X = x.split()                       # 字串轉成串列\n",
    "Y = y.split(\"\\\\\")                   # 字串轉成串列\n",
    "print(x, \"→\", X,\"→\",len(X))         \n",
    "print(y, \"→\", Y,\"→\",len(Y))   \n",
    "\n",
    "#Description:"
   ]
  },
  {
   "cell_type": "code",
   "execution_count": 64,
   "metadata": {},
   "outputs": [
    {
     "name": "stdout",
     "output_type": "stream",
     "text": [
      "D:\\Python\\Job\n",
      "D:*Python*Job\n"
     ]
    }
   ],
   "source": [
    "# 17.\n",
    "x = ['D:','Python','Job']\n",
    "conn = '\\\\'                   # 路徑分隔字元\n",
    "print(conn.join(x))\n",
    "conn = '*'                    # 普通字元\n",
    "print(conn.join(x))"
   ]
  },
  {
   "cell_type": "markdown",
   "metadata": {},
   "source": [
    "# 19.\n",
    "．ref 6-34"
   ]
  },
  {
   "cell_type": "code",
   "execution_count": 7,
   "metadata": {},
   "outputs": [
    {
     "name": "stdout",
     "output_type": "stream",
     "text": [
      "('a', 80)\n",
      "('b', 91)\n",
      "('c', 93)\n"
     ]
    }
   ],
   "source": [
    "# 19.\n",
    "x = ['a', 'b', 'c']\n",
    "y = [80, 91, 93]\n",
    "\n",
    "for p in zip(x, y):\n",
    "    print(p)"
   ]
  },
  {
   "cell_type": "code",
   "execution_count": 66,
   "metadata": {},
   "outputs": [
    {
     "name": "stdout",
     "output_type": "stream",
     "text": [
      "(0, 'a')\n",
      "(1, 'b')\n",
      "(2, 'c')\n"
     ]
    }
   ],
   "source": [
    "# 20.\n",
    "x = [\"a\", \"b\", \"c\"]\n",
    "for i in enumerate(x):print(i)"
   ]
  },
  {
   "cell_type": "code",
   "execution_count": 2,
   "metadata": {},
   "outputs": [
    {
     "name": "stdout",
     "output_type": "stream",
     "text": [
      "a : 80 分\n",
      "b : 91 分\n",
      "c : 93 分\n"
     ]
    }
   ],
   "source": [
    "# 21.\n",
    "x = ['a', 'b', 'c']\n",
    "y = [80, 91, 93]\n",
    "\n",
    "for i, j in zip(x, y):            # 解包\n",
    "    print('{} : {} 分'.format(i, j))"
   ]
  },
  {
   "cell_type": "code",
   "execution_count": 5,
   "metadata": {},
   "outputs": [
    {
     "name": "stdout",
     "output_type": "stream",
     "text": [
      "第1位員工:a\n",
      "第2位員工:b\n",
      "第3位員工:c\n"
     ]
    }
   ],
   "source": [
    "# 22.\n",
    "x = [\"a\", \"b\", \"c\"]\n",
    "\n",
    "y = enumerate(x, start=1)\n",
    "for i, j in y:\n",
    "    print('第{}位員工:{}'.format(i, j))"
   ]
  },
  {
   "cell_type": "code",
   "execution_count": 76,
   "metadata": {},
   "outputs": [
    {
     "name": "stdout",
     "output_type": "stream",
     "text": [
      "<class 'list'>\n",
      "[('Name', 'YC'), ('Age', '37'), ('Hometown', 'Banqiao')]\n"
     ]
    }
   ],
   "source": [
    "# 23.\n",
    "a = ['Name', 'Age', 'Hometown']\n",
    "b = ['YC', '37', 'Banqiao']\n",
    "c = zip(a, b)         # 執行zip\n",
    "print(type(a))                \n",
    "a_ = list(c)             \n",
    "print(a_)      "
   ]
  },
  {
   "cell_type": "code",
   "execution_count": 77,
   "metadata": {},
   "outputs": [
    {
     "name": "stdout",
     "output_type": "stream",
     "text": [
      "轉成串列輸出, 初始索引值是 0 =  [(0, 'a'), (1, 'b'), (2, 'c')]\n",
      "轉成串列輸出, 初始索引值是10 =  [(10, 'a'), (11, 'b'), (12, 'c')]\n"
     ]
    }
   ],
   "source": [
    "# 24.\n",
    "x = [\"a\", \"b\", \"c\"]\n",
    "x_ = enumerate(x)                # 數值初始是0\n",
    "print(\"轉成串列輸出, 初始索引值是 0 = \", list(x_))\n",
    "\n",
    "x_ = enumerate(x, start = 10)    \n",
    "print(\"轉成串列輸出, 初始索引值是10 = \", list(x_))"
   ]
  },
  {
   "cell_type": "code",
   "execution_count": 78,
   "metadata": {},
   "outputs": [
    {
     "name": "stdout",
     "output_type": "stream",
     "text": [
      "[1, 4, 9, 16, 25, 36, 49, 64, 81, 100]\n"
     ]
    }
   ],
   "source": [
    "# 25.\n",
    "x = 10\n",
    "y = [n ** 2 for n in range(1, x+1)]\n",
    "print(y)"
   ]
  },
  {
   "cell_type": "code",
   "execution_count": 79,
   "metadata": {},
   "outputs": [
    {
     "name": "stdout",
     "output_type": "stream",
     "text": [
      "<class 'tuple'>\n",
      "商 = 1,    餘數 = 4\n"
     ]
    }
   ],
   "source": [
    "# 26.\n",
    "x = 9\n",
    "y = 5\n",
    "z = divmod(x, y)\n",
    "print(type(z))\n",
    "v1, v2 = z\n",
    "print('商 = {},    餘數 = {}'.format(v1, v2))"
   ]
  },
  {
   "cell_type": "code",
   "execution_count": 80,
   "metadata": {},
   "outputs": [
    {
     "name": "stdout",
     "output_type": "stream",
     "text": [
      "A\n",
      "B\n",
      "C\n",
      "50\n",
      "30\n",
      "40\n",
      "A50\n",
      "B30\n",
      "C40\n",
      "{'A': 50, 'B': 30, 'C': 40, 'D': 35, 'E': 25, 'F': 55}\n",
      "{'B': 30, 'C': 40, 'D': 35, 'E': 25, 'F': 55}\n"
     ]
    }
   ],
   "source": [
    "# 27.  --  28. -- 29. -- 30. -- 31.\n",
    "x = {'A':50, 'B':30, 'C':40}\n",
    "y = {'D':35, 'E':25, 'F':55}\n",
    "\n",
    "for i in x.keys():print(i)\n",
    "for j in x.values():print(j)\n",
    "for a,b in x.items():print('{}{}'.format(a,b))\n",
    "\n",
    "x.update(y)\n",
    "print(x)\n",
    "\n",
    "del x['A']\n",
    "print(x)"
   ]
  },
  {
   "cell_type": "code",
   "execution_count": 81,
   "metadata": {},
   "outputs": [
    {
     "name": "stdout",
     "output_type": "stream",
     "text": [
      "dict_values([50, 30, 40])\n",
      "50\n",
      "30\n",
      "40\n"
     ]
    }
   ],
   "source": [
    "# 28.\n",
    "x = {'A':50, 'B':30, 'C':40}\n",
    "print(x.values())\n",
    "\n",
    "for v in x.values():\n",
    "    print(v)"
   ]
  },
  {
   "cell_type": "code",
   "execution_count": 82,
   "metadata": {},
   "outputs": [
    {
     "name": "stdout",
     "output_type": "stream",
     "text": [
      "dict_items([('A', 50), ('B', 30), ('C', 40)])\n",
      "A : 50\n",
      "B : 30\n",
      "C : 40\n"
     ]
    }
   ],
   "source": [
    "# 29.\n",
    "x = {'A':50, 'B':30, 'C':40}\n",
    "print(x.items())\n",
    "\n",
    "for k, v in x.items():\n",
    "    print('{} : {}'.format(k, v))"
   ]
  },
  {
   "cell_type": "code",
   "execution_count": 83,
   "metadata": {},
   "outputs": [
    {
     "name": "stdout",
     "output_type": "stream",
     "text": [
      "{'A': 50, 'B': 30, 'C': 40, 'D': 35, 'E': 25, 'F': 55}\n"
     ]
    }
   ],
   "source": [
    "# 30. 僅更新重覆的\n",
    "x = {'A':50, 'B':30, 'C':40}\n",
    "x_ = {'D':35, 'E':25, 'F':55}\n",
    "x.update(x_)\n",
    "print(x)"
   ]
  },
  {
   "cell_type": "code",
   "execution_count": 84,
   "metadata": {},
   "outputs": [
    {
     "name": "stdout",
     "output_type": "stream",
     "text": [
      "執行del key之後\n",
      "{'B': 30, 'C': 40}\n",
      "執行del之後\n"
     ]
    },
    {
     "ename": "NameError",
     "evalue": "name 'x' is not defined",
     "output_type": "error",
     "traceback": [
      "\u001b[1;31m---------------------------------------------------------------------------\u001b[0m",
      "\u001b[1;31mNameError\u001b[0m                                 Traceback (most recent call last)",
      "\u001b[1;32m<ipython-input-84-1499ff8060cc>\u001b[0m in \u001b[0;36m<module>\u001b[1;34m\u001b[0m\n\u001b[0;32m      6\u001b[0m \u001b[1;32mdel\u001b[0m \u001b[0mx\u001b[0m\u001b[1;33m\u001b[0m\u001b[1;33m\u001b[0m\u001b[0m\n\u001b[0;32m      7\u001b[0m \u001b[0mprint\u001b[0m\u001b[1;33m(\u001b[0m\u001b[1;34m'執行del之後'\u001b[0m\u001b[1;33m)\u001b[0m\u001b[1;33m\u001b[0m\u001b[1;33m\u001b[0m\u001b[0m\n\u001b[1;32m----> 8\u001b[1;33m \u001b[0mprint\u001b[0m\u001b[1;33m(\u001b[0m\u001b[0mx\u001b[0m\u001b[1;33m)\u001b[0m\u001b[1;33m\u001b[0m\u001b[1;33m\u001b[0m\u001b[0m\n\u001b[0m",
      "\u001b[1;31mNameError\u001b[0m: name 'x' is not defined"
     ]
    }
   ],
   "source": [
    "# 31.\n",
    "x = {'A':50, 'B':30, 'C':40}\n",
    "del x['A']\n",
    "print('執行del key之後')\n",
    "print(x)\n",
    "del x\n",
    "print('執行del之後')\n",
    "print(x)"
   ]
  },
  {
   "cell_type": "code",
   "execution_count": 85,
   "metadata": {},
   "outputs": [
    {
     "name": "stdout",
     "output_type": "stream",
     "text": [
      "pop元組移除法: {'B': 2, 'C': 3}\n",
      "del串列移除法: {'B': 2}\n"
     ]
    },
    {
     "ename": "NameError",
     "evalue": "name 'x' is not defined",
     "output_type": "error",
     "traceback": [
      "\u001b[1;31m---------------------------------------------------------------------------\u001b[0m",
      "\u001b[1;31mNameError\u001b[0m                                 Traceback (most recent call last)",
      "\u001b[1;32m<ipython-input-85-09c991c07280>\u001b[0m in \u001b[0;36m<module>\u001b[1;34m\u001b[0m\n\u001b[0;32m      8\u001b[0m \u001b[1;33m\u001b[0m\u001b[0m\n\u001b[0;32m      9\u001b[0m \u001b[1;32mdel\u001b[0m \u001b[0mx\u001b[0m\u001b[1;33m\u001b[0m\u001b[1;33m\u001b[0m\u001b[0m\n\u001b[1;32m---> 10\u001b[1;33m \u001b[0mprint\u001b[0m\u001b[1;33m(\u001b[0m\u001b[0mx\u001b[0m\u001b[1;33m)\u001b[0m\u001b[1;33m\u001b[0m\u001b[1;33m\u001b[0m\u001b[0m\n\u001b[0m",
      "\u001b[1;31mNameError\u001b[0m: name 'x' is not defined"
     ]
    }
   ],
   "source": [
    "# 32. 移除的方式\n",
    "x = {'A':1, 'B':2, 'C':3}\n",
    "x.pop('A')\n",
    "print('pop元組移除法:', x)\n",
    "\n",
    "del x['C']\n",
    "print('del串列移除法:', x)\n",
    "\n",
    "del x\n",
    "print(x)"
   ]
  },
  {
   "cell_type": "code",
   "execution_count": 86,
   "metadata": {},
   "outputs": [
    {
     "name": "stdout",
     "output_type": "stream",
     "text": [
      "{'A': 1}\n",
      "{'A': 1, 'B': 2}\n",
      "{'C': 3}\n"
     ]
    }
   ],
   "source": [
    "# 33.\n",
    "def M(k, v, dict={}):\n",
    "    dict[k] = v\n",
    "    print(dict)\n",
    "\n",
    "M('A', 1)\n",
    "M('B', 2)\n",
    "M('C', 3, {})"
   ]
  },
  {
   "cell_type": "code",
   "execution_count": 87,
   "metadata": {},
   "outputs": [
    {
     "name": "stdout",
     "output_type": "stream",
     "text": [
      "{'a': 1, 'b': 2, 'c': 3}\n"
     ]
    }
   ],
   "source": [
    "# 34.\n",
    "x = ['a', 'b', 'c']\n",
    "y = [1, 2, 3]\n",
    "z = zip(x, y)\n",
    "dict_ = dict(z)\n",
    "print(dict_)"
   ]
  },
  {
   "cell_type": "code",
   "execution_count": 88,
   "metadata": {},
   "outputs": [
    {
     "name": "stdout",
     "output_type": "stream",
     "text": [
      "{'a': 1, 'b': 2}\n"
     ]
    }
   ],
   "source": [
    "# 35.  \"list\" trans dict\n",
    "x = ['a', 1]\n",
    "y = ['b', 2]\n",
    "z = dict([x, y])\n",
    "print(z)"
   ]
  },
  {
   "cell_type": "code",
   "execution_count": 89,
   "metadata": {},
   "outputs": [
    {
     "name": "stdout",
     "output_type": "stream",
     "text": [
      "{'a': 1, 'b': 2}\n"
     ]
    }
   ],
   "source": [
    "# 36.  \"tuple\" trans dict\n",
    "str1 = ('a', 1)\n",
    "str2 = ('b', 2)\n",
    "x = dict([str1, str2])\n",
    "print(x)"
   ]
  },
  {
   "cell_type": "code",
   "execution_count": 90,
   "metadata": {},
   "outputs": [
    {
     "name": "stdout",
     "output_type": "stream",
     "text": [
      "['A', 'B', 'C', 'C', 'D', 'E']\n",
      "最後客戶名單如下：\n",
      "['C', 'D', 'A', 'B', 'E']\n"
     ]
    }
   ],
   "source": [
    "# 37.  篩選重覆資料\n",
    "x = ['A', 'B', 'C']\n",
    "y = ['C', 'D', 'E']\n",
    "\n",
    "z = x + y\n",
    "print(z)\n",
    "\n",
    "cust = set(z)           # 串列轉成集合\n",
    "z_ = list(cust)\n",
    "print('最後客戶名單如下：')\n",
    "print(z_)"
   ]
  },
  {
   "cell_type": "code",
   "execution_count": 91,
   "metadata": {},
   "outputs": [
    {
     "name": "stdout",
     "output_type": "stream",
     "text": [
      "[3]\n"
     ]
    }
   ],
   "source": [
    "# 38. 取交集\n",
    "list1 = [1, 2, 3]\n",
    "list2 = [3, 4, 5]\n",
    "x = [i for i in list1 if i in list2]\n",
    "print(x)"
   ]
  },
  {
   "cell_type": "code",
   "execution_count": 4,
   "metadata": {},
   "outputs": [
    {
     "name": "stdout",
     "output_type": "stream",
     "text": [
      "串列中有我要找的單字\n"
     ]
    }
   ],
   "source": [
    "# 39.\n",
    "x = ['a', 'b', 'c']\n",
    "str = '我要找尋a'\n",
    "if any(x_ in str for x_ in x):\n",
    "    print('串列中有我要找的單字')"
   ]
  }
 ],
 "metadata": {
  "kernelspec": {
   "display_name": "Python 3",
   "language": "python",
   "name": "python3"
  },
  "language_info": {
   "codemirror_mode": {
    "name": "ipython",
    "version": 3
   },
   "file_extension": ".py",
   "mimetype": "text/x-python",
   "name": "python",
   "nbconvert_exporter": "python",
   "pygments_lexer": "ipython3",
   "version": "3.8.5"
  }
 },
 "nbformat": 4,
 "nbformat_minor": 4
}
