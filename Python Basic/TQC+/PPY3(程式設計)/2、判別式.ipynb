{
 "cells": [
  {
   "cell_type": "code",
   "execution_count": 1,
   "metadata": {},
   "outputs": [
    {
     "name": "stdout",
     "output_type": "stream",
     "text": [
      "100\n",
      "100是偶數\n"
     ]
    }
   ],
   "source": [
    "# 201 偶數判斷  v\n",
    "x = int(input())\n",
    "\n",
    "if x % 2 == 0:print(f\"{x}是偶數\" )\n",
    "else:print(f\"{x}是奇數\")"
   ]
  },
  {
   "cell_type": "code",
   "execution_count": 2,
   "metadata": {},
   "outputs": [
    {
     "name": "stdout",
     "output_type": "stream",
     "text": [
      "199\n",
      "199不是3和5的倍數\n"
     ]
    }
   ],
   "source": [
    "# 202 倍數判斷   v\n",
    "x = int(input())\n",
    "\n",
    "if x % 3 == 0 and x % 5 == 0 :print(f\"{x}是3和5的倍數\")\n",
    "elif x % 5 == 0:print(f\"{x}是5的倍數\" )\n",
    "elif x % 3 == 0:print(f\"{x}是3的倍數\")\n",
    "else:print(f\"{x}不是3和5的倍數\")"
   ]
  },
  {
   "cell_type": "code",
   "execution_count": 3,
   "metadata": {},
   "outputs": [
    {
     "name": "stdout",
     "output_type": "stream",
     "text": [
      "100\n",
      "100 不是閏年.\n"
     ]
    }
   ],
   "source": [
    "# 203 閏年判斷   v\n",
    "x=int(input()) \n",
    "\n",
    "if x%4==0 and x%100 !=0 or x%4==0 and x%400==0:\n",
    "    print(f\"{x:} 是閏年.\")\n",
    "    \n",
    "else:print(f\"{x:} 不是閏年.\")"
   ]
  },
  {
   "cell_type": "code",
   "execution_count": 6,
   "metadata": {},
   "outputs": [
    {
     "name": "stdout",
     "output_type": "stream",
     "text": [
      "1\n",
      "2\n",
      "+\n",
      "3\n"
     ]
    }
   ],
   "source": [
    "# 204 算術運算  V\n",
    "\n",
    "a=int(input()) \n",
    "b=int(input()) \n",
    "oper=input()\n",
    "\n",
    "if oper == '+':C=a+b\n",
    "    \n",
    "elif oper == '-':C=a-b\n",
    "\n",
    "elif oper == '*':C=a*b\n",
    "    \n",
    "elif oper == '/':C=a/b   \n",
    "    \n",
    "elif oper == '//':C=a//b \n",
    "\n",
    "elif oper == '%':C=a%b \n",
    "    \n",
    "print(C)"
   ]
  },
  {
   "cell_type": "code",
   "execution_count": 7,
   "metadata": {},
   "outputs": [
    {
     "name": "stdout",
     "output_type": "stream",
     "text": [
      "dd\n",
      "dd是字母.\n"
     ]
    }
   ],
   "source": [
    "# 205 字元判斷  V\n",
    "\n",
    "x= input()\n",
    "\n",
    "if x.isalpha():print(f\"{x:}是字母.\")\n",
    "\n",
    "elif x.isdigit():print(f\"{x:}是數字.\")\n",
    "    \n",
    "else:print(f\"{x:}是符號.\")"
   ]
  },
  {
   "cell_type": "code",
   "execution_count": 8,
   "metadata": {},
   "outputs": [
    {
     "name": "stdout",
     "output_type": "stream",
     "text": [
      "100\n",
      "A\n"
     ]
    }
   ],
   "source": [
    "# 206 等級判斷  V\n",
    "\n",
    "a=int(input()) \n",
    "\n",
    "if a >= 80 and a<=100: print(\"A\")\n",
    "elif a >= 70 and a<=79:print(\"B\")\n",
    "elif a >= 60 and a<=69:print(\"C\")    \n",
    "elif a<=59:print(\"F\")"
   ]
  },
  {
   "cell_type": "code",
   "execution_count": 9,
   "metadata": {},
   "outputs": [
    {
     "name": "stdout",
     "output_type": "stream",
     "text": [
      "40000\n",
      "28000.0\n"
     ]
    }
   ],
   "source": [
    "# 207 折扣方案\n",
    "x = int(input())\n",
    "\n",
    "while x < 8000:\n",
    "    x = int(input())\n",
    "\n",
    "if 38000 <= x: print(x * .7)\n",
    "elif 28000 <= x <= 37999 :print(x * .8)\n",
    "elif 18000 <= x <= 27999 :print(x * .9)\n",
    "else:print(x * .95)"
   ]
  },
  {
   "cell_type": "code",
   "execution_count": 10,
   "metadata": {},
   "outputs": [
    {
     "name": "stdout",
     "output_type": "stream",
     "text": [
      "10\n",
      "A\n"
     ]
    }
   ],
   "source": [
    "# 208 十進位換算 v\n",
    "\n",
    "num =  int(input())\n",
    "T=0\n",
    "\n",
    "if 0<num<9:\n",
    "    print(num)\n",
    "\n",
    "elif num==10: print('A')\n",
    "elif num==11:print('B')\n",
    "elif num==12:print('C')\n",
    "elif num==13:print('D')\n",
    "elif num==14:print('E')\n",
    "elif num==15:print('F')"
   ]
  },
  {
   "cell_type": "code",
   "execution_count": 11,
   "metadata": {},
   "outputs": [
    {
     "name": "stdout",
     "output_type": "stream",
     "text": [
      "555\n",
      "666\n",
      "Outside\n"
     ]
    }
   ],
   "source": [
    "# 209 距離判斷 v\n",
    "x1 = int(input())\n",
    "y1 = int(input())\n",
    "    \n",
    "x2=int(5)\n",
    "y2=int(6)\n",
    "\n",
    "d = ((x1-x2)**2 +(y1-y2)**2) ** .5\n",
    "\n",
    "if d <= 15:print(\"Inside\")\n",
    "else:print(\"Outside\")"
   ]
  },
  {
   "cell_type": "code",
   "execution_count": 12,
   "metadata": {},
   "outputs": [
    {
     "name": "stdout",
     "output_type": "stream",
     "text": [
      "2\n",
      "3\n",
      "4\n",
      "9\n"
     ]
    }
   ],
   "source": [
    "# 210 三角形判斷\n",
    "\n",
    "x1 = int(input())\n",
    "x2 = int(input())\n",
    "x3 = int(input())\n",
    "\n",
    "if x1 + x2 > x3 and x1 + x3 > x2 and x2 + x3 > x1 :print( x1 + x2 + x3 )\n",
    "else:print(\"Invalid\")"
   ]
  },
  {
   "cell_type": "code",
   "execution_count": null,
   "metadata": {},
   "outputs": [],
   "source": []
  }
 ],
 "metadata": {
  "kernelspec": {
   "display_name": "Python 3",
   "language": "python",
   "name": "python3"
  },
  "language_info": {
   "codemirror_mode": {
    "name": "ipython",
    "version": 3
   },
   "file_extension": ".py",
   "mimetype": "text/x-python",
   "name": "python",
   "nbconvert_exporter": "python",
   "pygments_lexer": "ipython3",
   "version": "3.8.5"
  }
 },
 "nbformat": 4,
 "nbformat_minor": 4
}
