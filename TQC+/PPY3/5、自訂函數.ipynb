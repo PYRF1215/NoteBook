{
 "cells": [
  {
   "cell_type": "code",
   "execution_count": 1,
   "metadata": {},
   "outputs": [
    {
     "name": "stdout",
     "output_type": "stream",
     "text": [
      "a\n",
      "1\n",
      "Name:a\n",
      "No:1\n"
     ]
    }
   ],
   "source": [
    "# 501 訊息顯示 V\n",
    "def compute(x,y):\n",
    "    print(f\"Name:{x}\")   \n",
    "    print(f\"No:{y}\")\n",
    "    \n",
    "x,y = input(),input()   \n",
    "compute(x,y)"
   ]
  },
  {
   "cell_type": "code",
   "execution_count": 2,
   "metadata": {},
   "outputs": [
    {
     "name": "stdout",
     "output_type": "stream",
     "text": [
      "3\n",
      "5\n",
      "15\n"
     ]
    },
    {
     "data": {
      "text/plain": [
       "15"
      ]
     },
     "execution_count": 2,
     "metadata": {},
     "output_type": "execute_result"
    }
   ],
   "source": [
    "#  502 乘積  V # 504 次方計算 V 同502  →  c=a**b\n",
    "\n",
    "def compute(x,y):\n",
    "    z=x*y\n",
    "    print(z)\n",
    "    return(z)\n",
    "\n",
    "x,y = int(input()),int(input())\n",
    "compute(x,y)"
   ]
  },
  {
   "cell_type": "code",
   "execution_count": 3,
   "metadata": {},
   "outputs": [
    {
     "name": "stdout",
     "output_type": "stream",
     "text": [
      "1\n",
      "10\n",
      "55\n"
     ]
    },
    {
     "data": {
      "text/plain": [
       "[1, 2, 3, 4, 5, 6, 7, 8, 9, 10]"
      ]
     },
     "execution_count": 3,
     "metadata": {},
     "output_type": "execute_result"
    }
   ],
   "source": [
    "# 503 連加計算 V\n",
    "\n",
    "a=int(input())\n",
    "b=int(input())\n",
    "def compute(a,b):\n",
    "    I=[]\n",
    "    \n",
    "    for i in range(a,b+1):\n",
    "        I.append(i)\n",
    "    print(sum(I))\n",
    "    return(I)\n",
    "\n",
    "compute(a,b)"
   ]
  },
  {
   "cell_type": "code",
   "execution_count": 6,
   "metadata": {},
   "outputs": [
    {
     "name": "stdout",
     "output_type": "stream",
     "text": [
      "w\n",
      "3\n",
      "2\n",
      "w w w \n",
      "w w w \n"
     ]
    }
   ],
   "source": [
    "# 505 依參數格式化輸出  V\n",
    "def compute():\n",
    "   for i in range(y):\n",
    "       for i in range(x):\n",
    "           print(a,end=\" \")\n",
    "       print()\n",
    "a,x,y = input(),int(input()),int(input())         \n",
    "compute()"
   ]
  },
  {
   "cell_type": "code",
   "execution_count": 14,
   "metadata": {},
   "outputs": [
    {
     "name": "stdout",
     "output_type": "stream",
     "text": [
      "2\n",
      "4\n",
      "1\n",
      "-0.2928932188134524, -1.7071067811865475\n"
     ]
    }
   ],
   "source": [
    "# 506 一元二次方程式 V\n",
    "import math\n",
    "a,b,c = eval(input()),eval(input()),eval(input())\n",
    "\n",
    "def compute():\n",
    "    y = (b **2) - (4*a*c) #discriminant \n",
    "    if y > 0: # 2 real solutions\n",
    "        y1,y2 =((-b+math.sqrt(y))/(2*a)),((-b-math.sqrt(y))/(2*a))\n",
    "        return y1,y2\n",
    "\n",
    "    else:return \"方程式無根\" , None \n",
    "        \n",
    "X,Y = compute()\n",
    "\n",
    "if Y == None:print(X) \n",
    "else:print(f\"{X:}, {Y:}\")"
   ]
  },
  {
   "cell_type": "code",
   "execution_count": 15,
   "metadata": {},
   "outputs": [
    {
     "name": "stdout",
     "output_type": "stream",
     "text": [
      "13\n",
      "Prime\n"
     ]
    }
   ],
   "source": [
    "# 507 質數 v\n",
    "def compute(x):\n",
    "    if x>1:\n",
    "        for i in range(2,x):     \n",
    "            if x%i == 0:return\"Not Prime\"\n",
    "        else:return\"Prime\"\n",
    "    else:return\"Not Prime\"\n",
    "        \n",
    "x=int(input()) \n",
    "print(compute(x)) "
   ]
  },
  {
   "cell_type": "code",
   "execution_count": 19,
   "metadata": {},
   "outputs": [
    {
     "name": "stdout",
     "output_type": "stream",
     "text": [
      "15,5\n",
      "5\n"
     ]
    }
   ],
   "source": [
    "# 508 ，最大公因數最大公因數（Greatest Common Divisor, GCD） V\n",
    "def  compute(x,y):\n",
    "    GCD = 1     \n",
    "    for i in range(1,max(x,y)+1):    \n",
    "        if x%i==0 and y%i==0:\n",
    "            GCD=i\n",
    "    return GCD        \n",
    "    \n",
    "\n",
    "x,y = eval(input()) \n",
    "print(compute(x,y))"
   ]
  },
  {
   "cell_type": "code",
   "execution_count": null,
   "metadata": {},
   "outputs": [],
   "source": []
  }
 ],
 "metadata": {
  "kernelspec": {
   "display_name": "Python 3",
   "language": "python",
   "name": "python3"
  },
  "language_info": {
   "codemirror_mode": {
    "name": "ipython",
    "version": 3
   },
   "file_extension": ".py",
   "mimetype": "text/x-python",
   "name": "python",
   "nbconvert_exporter": "python",
   "pygments_lexer": "ipython3",
   "version": "3.8.5"
  }
 },
 "nbformat": 4,
 "nbformat_minor": 4
}
