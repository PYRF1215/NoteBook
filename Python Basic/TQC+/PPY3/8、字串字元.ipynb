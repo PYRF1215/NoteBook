{
 "cells": [
  {
   "cell_type": "code",
   "execution_count": 1,
   "metadata": {},
   "outputs": [
    {
     "name": "stdout",
     "output_type": "stream",
     "text": [
      "123\n",
      " '1' 第 0 位索引\n",
      " '2' 第 1 位索引\n",
      " '3' 第 2 位索引\n"
     ]
    }
   ],
   "source": [
    "# 801 字串索引\n",
    "x=input()\n",
    "for i in range(len(x)):\n",
    "  print(f\" '{x[i]}' 第 {i} 位索引\")"
   ]
  },
  {
   "cell_type": "code",
   "execution_count": 2,
   "metadata": {},
   "outputs": [
    {
     "name": "stdout",
     "output_type": "stream",
     "text": [
      "AB\n",
      "'A'=65\n",
      "'B'=66\n",
      "131\n"
     ]
    }
   ],
   "source": [
    "# 802 字元對應\n",
    "x = input()\n",
    "T = 0\n",
    "\n",
    "for i in range(len(x)):\n",
    "    print(f\"'{x[i]}'={ord(x[i])}\" )\n",
    "    T = T + ord(x[i])\n",
    "print(T)"
   ]
  },
  {
   "cell_type": "code",
   "execution_count": 4,
   "metadata": {},
   "outputs": [
    {
     "name": "stdout",
     "output_type": "stream",
     "text": [
      "aaa\n",
      "AAA\n",
      "Aaa\n"
     ]
    }
   ],
   "source": [
    "# 804 大寫轉換\n",
    "x = input()\n",
    "print(x.upper())\n",
    "print(x.title())"
   ]
  },
  {
   "cell_type": "code",
   "execution_count": 5,
   "metadata": {},
   "outputs": [
    {
     "name": "stdout",
     "output_type": "stream",
     "text": [
      "A\n",
      "|A         |\n",
      "|    A     |\n",
      "|         A|\n"
     ]
    }
   ],
   "source": [
    "#805 字串輸出\n",
    "x = input()\n",
    "print(f\"|{x:<10s}|\")\n",
    "print(f\"|{x:^10s}|\")\n",
    "print(f\"|{x:>10s}|\")"
   ]
  },
  {
   "cell_type": "code",
   "execution_count": 6,
   "metadata": {},
   "outputs": [
    {
     "name": "stdout",
     "output_type": "stream",
     "text": [
      "ABBDDDDDDDDD\n",
      "D\n",
      "字串中的'D'產生'9'次\n"
     ]
    }
   ],
   "source": [
    "#806 字元次數計算\n",
    "a = input()\n",
    "b = input()\n",
    "\n",
    "def compute(x,y):\n",
    "    return x.count(f\"{y}\")\n",
    "\n",
    "print(f\"字串中的'{b}'產生'{compute(a,b)}'次\")"
   ]
  },
  {
   "cell_type": "code",
   "execution_count": 7,
   "metadata": {},
   "outputs": [
    {
     "name": "stdout",
     "output_type": "stream",
     "text": [
      "1-2\n",
      " '12':Valid SSN\n"
     ]
    }
   ],
   "source": [
    "# 808 社會安全碼\n",
    "x = input()\n",
    "X = x.replace(\"-\",\"\")\n",
    "if X.isdecimal() == True :print(f\" '{X}':Valid SSN\") \n",
    "else :print(\"Invalid SSN\")"
   ]
  },
  {
   "cell_type": "code",
   "execution_count": 9,
   "metadata": {},
   "outputs": [
    {
     "name": "stdout",
     "output_type": "stream",
     "text": [
      "aaaa\n",
      "登入成功\n"
     ]
    }
   ],
   "source": [
    "# 809 密碼規則\n",
    "x = input()\n",
    "upperNum = 0\n",
    "\n",
    "for i in range(len(x)):\n",
    "    if x[i].isupper(): \n",
    "      upperNum = 1\n",
    "  \n",
    "if len(x) >= 4 and x.isalnum():print(\"登入成功\")\n",
    "else:print(\"密碼錯誤\")"
   ]
  },
  {
   "cell_type": "code",
   "execution_count": null,
   "metadata": {},
   "outputs": [],
   "source": [
    "# 803 倒數三個詞、# 807 字串加總、# 810 最大值與最小值之差"
   ]
  }
 ],
 "metadata": {
  "kernelspec": {
   "display_name": "Python 3",
   "language": "python",
   "name": "python3"
  },
  "language_info": {
   "codemirror_mode": {
    "name": "ipython",
    "version": 3
   },
   "file_extension": ".py",
   "mimetype": "text/x-python",
   "name": "python",
   "nbconvert_exporter": "python",
   "pygments_lexer": "ipython3",
   "version": "3.8.5"
  }
 },
 "nbformat": 4,
 "nbformat_minor": 4
}
